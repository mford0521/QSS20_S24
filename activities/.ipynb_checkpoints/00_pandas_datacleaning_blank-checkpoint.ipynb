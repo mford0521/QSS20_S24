{
 "cells": [
  {
   "cell_type": "markdown",
   "metadata": {},
   "source": [
    "## 0. Load imports "
   ]
  },
  {
   "cell_type": "code",
   "execution_count": 2,
   "metadata": {},
   "outputs": [],
   "source": [
    "## imports\n",
    "import pandas as pd\n",
    "import numpy as np\n",
    "\n",
    "\n",
    "## print multiple things from same cell\n",
    "from IPython.core.interactiveshell import InteractiveShell\n",
    "InteractiveShell.ast_node_interactivity = \"all\""
   ]
  },
  {
   "cell_type": "markdown",
   "metadata": {},
   "source": [
    "## 0. Load data"
   ]
  },
  {
   "cell_type": "code",
   "execution_count": 3,
   "metadata": {
    "collapsed": true
   },
   "outputs": [
    {
     "data": {
      "text/html": [
       "<div>\n",
       "<style scoped>\n",
       "    .dataframe tbody tr th:only-of-type {\n",
       "        vertical-align: middle;\n",
       "    }\n",
       "\n",
       "    .dataframe tbody tr th {\n",
       "        vertical-align: top;\n",
       "    }\n",
       "\n",
       "    .dataframe thead th {\n",
       "        text-align: right;\n",
       "    }\n",
       "</style>\n",
       "<table border=\"1\" class=\"dataframe\">\n",
       "  <thead>\n",
       "    <tr style=\"text-align: right;\">\n",
       "      <th></th>\n",
       "      <th>X</th>\n",
       "      <th>Y</th>\n",
       "      <th>CCN</th>\n",
       "      <th>REPORT_DAT</th>\n",
       "      <th>SHIFT</th>\n",
       "      <th>METHOD</th>\n",
       "      <th>OFFENSE</th>\n",
       "      <th>BLOCK</th>\n",
       "      <th>XBLOCK</th>\n",
       "      <th>YBLOCK</th>\n",
       "      <th>...</th>\n",
       "      <th>BLOCK_GROUP</th>\n",
       "      <th>CENSUS_TRACT</th>\n",
       "      <th>VOTING_PRECINCT</th>\n",
       "      <th>LATITUDE</th>\n",
       "      <th>LONGITUDE</th>\n",
       "      <th>BID</th>\n",
       "      <th>START_DATE</th>\n",
       "      <th>END_DATE</th>\n",
       "      <th>OBJECTID</th>\n",
       "      <th>OCTO_RECORD_ID</th>\n",
       "    </tr>\n",
       "  </thead>\n",
       "  <tbody>\n",
       "    <tr>\n",
       "      <th>0</th>\n",
       "      <td>-77.001753</td>\n",
       "      <td>38.821632</td>\n",
       "      <td>18048023</td>\n",
       "      <td>2020/10/21 04:00:00+00</td>\n",
       "      <td>MIDNIGHT</td>\n",
       "      <td>OTHERS</td>\n",
       "      <td>HOMICIDE</td>\n",
       "      <td>4600 - 4799 BLOCK OF SOUTH CAPITOL STREET</td>\n",
       "      <td>399848.0</td>\n",
       "      <td>128205.0</td>\n",
       "      <td>...</td>\n",
       "      <td>009811 1</td>\n",
       "      <td>9811.0</td>\n",
       "      <td>Precinct 125</td>\n",
       "      <td>38.821624</td>\n",
       "      <td>-77.001750</td>\n",
       "      <td>NaN</td>\n",
       "      <td>2018/03/26 08:40:06+00</td>\n",
       "      <td>2018/03/26 10:04:44+00</td>\n",
       "      <td>495550729</td>\n",
       "      <td>NaN</td>\n",
       "    </tr>\n",
       "    <tr>\n",
       "      <th>1</th>\n",
       "      <td>-77.021403</td>\n",
       "      <td>38.915570</td>\n",
       "      <td>20129574</td>\n",
       "      <td>2020/09/10 22:22:38+00</td>\n",
       "      <td>EVENING</td>\n",
       "      <td>OTHERS</td>\n",
       "      <td>MOTOR VEHICLE THEFT</td>\n",
       "      <td>620 - 699 BLOCK OF T STREET NW</td>\n",
       "      <td>398144.0</td>\n",
       "      <td>138633.0</td>\n",
       "      <td>...</td>\n",
       "      <td>004801 2</td>\n",
       "      <td>4801.0</td>\n",
       "      <td>Precinct 137</td>\n",
       "      <td>38.915562</td>\n",
       "      <td>-77.021401</td>\n",
       "      <td>NaN</td>\n",
       "      <td>2020/09/09 19:00:16+00</td>\n",
       "      <td>2020/09/10 20:22:11+00</td>\n",
       "      <td>495559019</td>\n",
       "      <td>NaN</td>\n",
       "    </tr>\n",
       "    <tr>\n",
       "      <th>2</th>\n",
       "      <td>-76.972226</td>\n",
       "      <td>38.854086</td>\n",
       "      <td>10147537</td>\n",
       "      <td>2020/12/21 05:00:00+00</td>\n",
       "      <td>MIDNIGHT</td>\n",
       "      <td>OTHERS</td>\n",
       "      <td>HOMICIDE</td>\n",
       "      <td>2300 - 2499 BLOCK OF HARTFORD STREET SE</td>\n",
       "      <td>402411.0</td>\n",
       "      <td>131808.0</td>\n",
       "      <td>...</td>\n",
       "      <td>007408 2</td>\n",
       "      <td>7408.0</td>\n",
       "      <td>Precinct 115</td>\n",
       "      <td>38.854078</td>\n",
       "      <td>-76.972223</td>\n",
       "      <td>NaN</td>\n",
       "      <td>2010/10/10 02:00:00+00</td>\n",
       "      <td>NaN</td>\n",
       "      <td>495562868</td>\n",
       "      <td>NaN</td>\n",
       "    </tr>\n",
       "    <tr>\n",
       "      <th>3</th>\n",
       "      <td>-77.023981</td>\n",
       "      <td>38.900345</td>\n",
       "      <td>5370</td>\n",
       "      <td>2020/01/17 02:39:05+00</td>\n",
       "      <td>EVENING</td>\n",
       "      <td>OTHERS</td>\n",
       "      <td>THEFT F/AUTO</td>\n",
       "      <td>800 - 899 BLOCK OF 9TH STREET NW</td>\n",
       "      <td>397920.0</td>\n",
       "      <td>136943.0</td>\n",
       "      <td>...</td>\n",
       "      <td>005802 5</td>\n",
       "      <td>5802.0</td>\n",
       "      <td>Precinct 129</td>\n",
       "      <td>38.900337</td>\n",
       "      <td>-77.023979</td>\n",
       "      <td>DOWNTOWN</td>\n",
       "      <td>2020/01/11 02:48:51+00</td>\n",
       "      <td>2020/01/17 02:48:54+00</td>\n",
       "      <td>495562872</td>\n",
       "      <td>NaN</td>\n",
       "    </tr>\n",
       "    <tr>\n",
       "      <th>4</th>\n",
       "      <td>-76.972651</td>\n",
       "      <td>38.857491</td>\n",
       "      <td>10251445</td>\n",
       "      <td>2020/09/11 04:00:00+00</td>\n",
       "      <td>MIDNIGHT</td>\n",
       "      <td>GUN</td>\n",
       "      <td>HOMICIDE</td>\n",
       "      <td>2300 - 2399 BLOCK OF AINGER PLACE SE</td>\n",
       "      <td>402374.0</td>\n",
       "      <td>132186.0</td>\n",
       "      <td>...</td>\n",
       "      <td>007502 1</td>\n",
       "      <td>7502.0</td>\n",
       "      <td>Precinct 134</td>\n",
       "      <td>38.857483</td>\n",
       "      <td>-76.972648</td>\n",
       "      <td>NaN</td>\n",
       "      <td>2010/09/02 04:00:00+00</td>\n",
       "      <td>2010/09/02 04:00:00+00</td>\n",
       "      <td>495562874</td>\n",
       "      <td>NaN</td>\n",
       "    </tr>\n",
       "  </tbody>\n",
       "</table>\n",
       "<p>5 rows × 25 columns</p>\n",
       "</div>"
      ],
      "text/plain": [
       "           X          Y       CCN              REPORT_DAT     SHIFT  METHOD  \\\n",
       "0 -77.001753  38.821632  18048023  2020/10/21 04:00:00+00  MIDNIGHT  OTHERS   \n",
       "1 -77.021403  38.915570  20129574  2020/09/10 22:22:38+00   EVENING  OTHERS   \n",
       "2 -76.972226  38.854086  10147537  2020/12/21 05:00:00+00  MIDNIGHT  OTHERS   \n",
       "3 -77.023981  38.900345      5370  2020/01/17 02:39:05+00   EVENING  OTHERS   \n",
       "4 -76.972651  38.857491  10251445  2020/09/11 04:00:00+00  MIDNIGHT     GUN   \n",
       "\n",
       "               OFFENSE                                      BLOCK    XBLOCK  \\\n",
       "0             HOMICIDE  4600 - 4799 BLOCK OF SOUTH CAPITOL STREET  399848.0   \n",
       "1  MOTOR VEHICLE THEFT             620 - 699 BLOCK OF T STREET NW  398144.0   \n",
       "2             HOMICIDE    2300 - 2499 BLOCK OF HARTFORD STREET SE  402411.0   \n",
       "3         THEFT F/AUTO           800 - 899 BLOCK OF 9TH STREET NW  397920.0   \n",
       "4             HOMICIDE       2300 - 2399 BLOCK OF AINGER PLACE SE  402374.0   \n",
       "\n",
       "     YBLOCK  ...  BLOCK_GROUP CENSUS_TRACT  VOTING_PRECINCT   LATITUDE  \\\n",
       "0  128205.0  ...     009811 1       9811.0     Precinct 125  38.821624   \n",
       "1  138633.0  ...     004801 2       4801.0     Precinct 137  38.915562   \n",
       "2  131808.0  ...     007408 2       7408.0     Precinct 115  38.854078   \n",
       "3  136943.0  ...     005802 5       5802.0     Precinct 129  38.900337   \n",
       "4  132186.0  ...     007502 1       7502.0     Precinct 134  38.857483   \n",
       "\n",
       "   LONGITUDE       BID              START_DATE                END_DATE  \\\n",
       "0 -77.001750       NaN  2018/03/26 08:40:06+00  2018/03/26 10:04:44+00   \n",
       "1 -77.021401       NaN  2020/09/09 19:00:16+00  2020/09/10 20:22:11+00   \n",
       "2 -76.972223       NaN  2010/10/10 02:00:00+00                     NaN   \n",
       "3 -77.023979  DOWNTOWN  2020/01/11 02:48:51+00  2020/01/17 02:48:54+00   \n",
       "4 -76.972648       NaN  2010/09/02 04:00:00+00  2010/09/02 04:00:00+00   \n",
       "\n",
       "    OBJECTID  OCTO_RECORD_ID  \n",
       "0  495550729             NaN  \n",
       "1  495559019             NaN  \n",
       "2  495562868             NaN  \n",
       "3  495562872             NaN  \n",
       "4  495562874             NaN  \n",
       "\n",
       "[5 rows x 25 columns]"
      ]
     },
     "execution_count": 3,
     "metadata": {},
     "output_type": "execute_result"
    },
    {
     "data": {
      "text/plain": [
       "(27932, 25)"
      ]
     },
     "execution_count": 3,
     "metadata": {},
     "output_type": "execute_result"
    },
    {
     "name": "stdout",
     "output_type": "stream",
     "text": [
      "<class 'pandas.core.frame.DataFrame'>\n",
      "RangeIndex: 27932 entries, 0 to 27931\n",
      "Data columns (total 25 columns):\n",
      " #   Column                Non-Null Count  Dtype  \n",
      "---  ------                --------------  -----  \n",
      " 0   X                     27932 non-null  float64\n",
      " 1   Y                     27932 non-null  float64\n",
      " 2   CCN                   27932 non-null  int64  \n",
      " 3   REPORT_DAT            27932 non-null  object \n",
      " 4   SHIFT                 27932 non-null  object \n",
      " 5   METHOD                27932 non-null  object \n",
      " 6   OFFENSE               27932 non-null  object \n",
      " 7   BLOCK                 27932 non-null  object \n",
      " 8   XBLOCK                27932 non-null  float64\n",
      " 9   YBLOCK                27932 non-null  float64\n",
      " 10  WARD                  27932 non-null  int64  \n",
      " 11  ANC                   27932 non-null  object \n",
      " 12  DISTRICT              27903 non-null  float64\n",
      " 13  PSA                   27897 non-null  float64\n",
      " 14  NEIGHBORHOOD_CLUSTER  27932 non-null  object \n",
      " 15  BLOCK_GROUP           27931 non-null  object \n",
      " 16  CENSUS_TRACT          27931 non-null  float64\n",
      " 17  VOTING_PRECINCT       27932 non-null  object \n",
      " 18  LATITUDE              27932 non-null  float64\n",
      " 19  LONGITUDE             27932 non-null  float64\n",
      " 20  BID                   4658 non-null   object \n",
      " 21  START_DATE            27932 non-null  object \n",
      " 22  END_DATE              24851 non-null  object \n",
      " 23  OBJECTID              27932 non-null  int64  \n",
      " 24  OCTO_RECORD_ID        0 non-null      float64\n",
      "dtypes: float64(10), int64(3), object(12)\n",
      "memory usage: 5.3+ MB\n"
     ]
    }
   ],
   "source": [
    "## load data on 2020 crimes in DC\n",
    "df = dc_crim_2020 = pd.read_csv(\"https://opendata.arcgis.com/datasets/f516e0dd7b614b088ad781b0c4002331_2.csv\")\n",
    "dc_crim_2020.head()\n",
    "dc_crim_2020.shape\n",
    "dc_crim_2020.info()\n"
   ]
  },
  {
   "cell_type": "markdown",
   "metadata": {},
   "source": [
    "#### Warm-up: Ways to add 100 to column X"
   ]
  },
  {
   "cell_type": "code",
   "execution_count": null,
   "metadata": {},
   "outputs": [],
   "source": []
  },
  {
   "cell_type": "markdown",
   "metadata": {},
   "source": [
    "## 1. Aggregation"
   ]
  },
  {
   "cell_type": "markdown",
   "metadata": {},
   "source": [
    "### Example of grouping by one variable and doing one aggregation \n",
    "\n",
    "**Task**: find and print the number of unique offense types (`OFFENSE`) by ward (`WARD`)"
   ]
  },
  {
   "cell_type": "code",
   "execution_count": null,
   "metadata": {},
   "outputs": [],
   "source": []
  },
  {
   "cell_type": "markdown",
   "metadata": {},
   "source": [
    "### Example of grouping by one variable and providing two summaries of the same variable\n",
    "\n",
    "**Task**: previous showed number of offenses by ward but want to find out content of offenses in each ward; create an aggregation that summarizes both the number of unique offenses by ward and what those offenses are -- for instance, by pasting the unique offenses in that ward separated by the \";\" (e.g., Theft; Burglary;...)\n",
    "\n",
    "*Hint*: you can use the join command to paste together a list separated by some delimiter. \n",
    "    - The syntax, if we are using the comma delimiter, is: \", \".join(nameoflist)"
   ]
  },
  {
   "cell_type": "code",
   "execution_count": null,
   "metadata": {},
   "outputs": [],
   "source": []
  },
  {
   "cell_type": "markdown",
   "metadata": {},
   "source": [
    "### Example of grouping by two variables \n",
    "\n",
    "**Task**: group by ward (`WARD`) and police shift (`SHIFT`) and find the offense that is most common in that ward and shift"
   ]
  },
  {
   "cell_type": "code",
   "execution_count": null,
   "metadata": {},
   "outputs": [],
   "source": []
  },
  {
   "cell_type": "markdown",
   "metadata": {},
   "source": [
    "## Summarizing over all rows or all columns (without grouping)\n",
    "\n",
    "We can also use the `apply` function to summarize rows or columns efficiently"
   ]
  },
  {
   "cell_type": "markdown",
   "metadata": {},
   "source": [
    "**Task**: find the mean lat and longitude in one line of code"
   ]
  },
  {
   "cell_type": "code",
   "execution_count": null,
   "metadata": {},
   "outputs": [],
   "source": []
  },
  {
   "cell_type": "markdown",
   "metadata": {},
   "source": [
    "## 2. Creating new columns/transforming their type "
   ]
  },
  {
   "cell_type": "markdown",
   "metadata": {},
   "source": [
    "### Simple filtering\n",
    "\n",
    "`np.where` is in the numpy package (aliased as `np`) and operates similar to `ifelse` in R\n",
    "\n",
    "But there is a built in pandas way to emulate this.\n",
    "\n",
    "**Task**: create an indicator `is_theft` for any offense that contains the word \"THEFT\"\n",
    "    \n",
    "**Task**: create an indicator `is_theft_notmotor` for any offense that contains the word \"THEFT\" but does not contain the word \"MOTOR\""
   ]
  },
  {
   "cell_type": "code",
   "execution_count": null,
   "metadata": {},
   "outputs": [],
   "source": []
  },
  {
   "cell_type": "markdown",
   "metadata": {},
   "source": [
    "### np.select\n",
    "\n",
    "**Task**: create a new variable, `offense_summary`, where you:\n",
    "        \n",
    "- Recode theft offenses that use a gun or knife as the method (`METHOD`) as: violent theft\n",
    "- Recode non-theft offenses that use a gun or knife as the method as: violent other\n",
    "- Recode all other as non-violent "
   ]
  },
  {
   "cell_type": "code",
   "execution_count": null,
   "metadata": {},
   "outputs": [],
   "source": []
  },
  {
   "cell_type": "markdown",
   "metadata": {},
   "source": [
    "### map.recode\n",
    "\n",
    "**Task**: recode shifts that are MIDNIGHT or EVENING as \"nighttime\"; code other shift to daytime"
   ]
  },
  {
   "cell_type": "code",
   "execution_count": null,
   "metadata": {},
   "outputs": [],
   "source": []
  },
  {
   "cell_type": "markdown",
   "metadata": {},
   "source": [
    "### Using built-in pandas methods\n",
    "\n",
    "Another way of creating variables, used either alone or in combination with np.where and np.select is to use pandas built in `str` methods\n",
    "\n",
    "Basic structure is: `df['namestringcol'].str.someoperation`"
   ]
  },
  {
   "cell_type": "markdown",
   "metadata": {},
   "source": [
    "**Task**: using a `str` method, create a new variable--`OFFENSE_NOSP`--that replaces spaces in the `OFFENSE` column with underscores"
   ]
  },
  {
   "cell_type": "code",
   "execution_count": null,
   "metadata": {},
   "outputs": [],
   "source": []
  },
  {
   "cell_type": "markdown",
   "metadata": {},
   "source": [
    "### Transforming column types\n",
    "\n",
    "**Task**: check the type of the `START_DATE` column"
   ]
  },
  {
   "cell_type": "code",
   "execution_count": null,
   "metadata": {},
   "outputs": [],
   "source": []
  },
  {
   "cell_type": "markdown",
   "metadata": {},
   "source": [
    "**Task**: recast the `START_DATE` column to datetime, calling this `START_DATE_CLEAN`; coerce errors rather than cleaning the string; check the type of that new col"
   ]
  },
  {
   "cell_type": "code",
   "execution_count": null,
   "metadata": {},
   "outputs": [],
   "source": []
  },
  {
   "cell_type": "markdown",
   "metadata": {},
   "source": [
    "**Task:** print the min and max of `START_DATE_CLEAN`. What happens if you try to do this with `START_DATE`?"
   ]
  },
  {
   "cell_type": "code",
   "execution_count": null,
   "metadata": {},
   "outputs": [],
   "source": []
  },
  {
   "cell_type": "markdown",
   "metadata": {},
   "source": [
    "## 3. Row and column filtering "
   ]
  },
  {
   "cell_type": "markdown",
   "metadata": {},
   "source": [
    "### Row subsetting\n",
    "\n",
    "**Task**: filter to crime reports about theft using the `is_theft` definition and that are in ward 3"
   ]
  },
  {
   "cell_type": "code",
   "execution_count": null,
   "metadata": {},
   "outputs": [],
   "source": []
  },
  {
   "cell_type": "markdown",
   "metadata": {},
   "source": [
    "### Column subsetting\n"
   ]
  },
  {
   "cell_type": "markdown",
   "metadata": {},
   "source": [
    "**Task**: select two columns--`START_DATE` and `END_DATE`--and print the head of the dataframe"
   ]
  },
  {
   "cell_type": "code",
   "execution_count": null,
   "metadata": {},
   "outputs": [],
   "source": []
  },
  {
   "cell_type": "markdown",
   "metadata": {},
   "source": [
    "**Task**: use list comprehension to automate this a bit and select all columns with the word \"DATE\" in the name; print the head of the dataframe"
   ]
  },
  {
   "cell_type": "code",
   "execution_count": null,
   "metadata": {},
   "outputs": [],
   "source": []
  },
  {
   "cell_type": "markdown",
   "metadata": {},
   "source": [
    "**Task**: filter reports of crime in `START_DATE_CLEAN` before May 2020 and that are located in ward 1; select the ward and `START_DATE` column and print a random sample of rows"
   ]
  },
  {
   "cell_type": "code",
   "execution_count": null,
   "metadata": {},
   "outputs": [],
   "source": []
  }
 ],
 "metadata": {
  "kernelspec": {
   "display_name": "Python 3 (ipykernel)",
   "language": "python",
   "name": "python3"
  },
  "language_info": {
   "codemirror_mode": {
    "name": "ipython",
    "version": 3
   },
   "file_extension": ".py",
   "mimetype": "text/x-python",
   "name": "python",
   "nbconvert_exporter": "python",
   "pygments_lexer": "ipython3",
   "version": "3.9.12"
  }
 },
 "nbformat": 4,
 "nbformat_minor": 4
}
